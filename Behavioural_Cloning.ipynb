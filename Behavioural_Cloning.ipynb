{
 "cells": [
  {
   "cell_type": "code",
   "execution_count": 1,
   "metadata": {
    "colab": {
     "base_uri": "https://localhost:8080/",
     "height": 101
    },
    "colab_type": "code",
    "id": "uxoIL-wMx9S8",
    "outputId": "1e058c53-2add-4b77-c124-6b38e2ba7edc"
   },
   "outputs": [
    {
     "name": "stderr",
     "output_type": "stream",
     "text": [
      "fatal: destination path 'track' already exists and is not an empty directory.\n"
     ]
    }
   ],
   "source": [
    "!git clone https://github.com/rslim087a/track"
   ]
  },
  {
   "cell_type": "code",
   "execution_count": 2,
   "metadata": {
    "colab": {
     "base_uri": "https://localhost:8080/",
     "height": 34
    },
    "colab_type": "code",
    "id": "nrS-qhV2y-Bf",
    "outputId": "656baf08-4e7e-4c5c-d89c-92bb95790a85"
   },
   "outputs": [
    {
     "name": "stderr",
     "output_type": "stream",
     "text": [
      "'ls' is not recognized as an internal or external command,\n",
      "operable program or batch file.\n"
     ]
    }
   ],
   "source": [
    "!ls track"
   ]
  },
  {
   "cell_type": "code",
   "execution_count": 3,
   "metadata": {
    "colab": {
     "base_uri": "https://localhost:8080/",
     "height": 336
    },
    "colab_type": "code",
    "id": "H-5VAxe0-LMb",
    "outputId": "7720a341-8831-44e9-e0f8-0091893402a0"
   },
   "outputs": [
    {
     "name": "stderr",
     "output_type": "stream",
     "text": [
      "'pip3' is not recognized as an internal or external command,\n",
      "operable program or batch file.\n"
     ]
    }
   ],
   "source": [
    "!pip3 install imgaug"
   ]
  },
  {
   "cell_type": "code",
   "execution_count": null,
   "metadata": {
    "colab": {},
    "colab_type": "code",
    "id": "ZwhYjjDtzCiW"
   },
   "outputs": [
    {
     "name": "stderr",
     "output_type": "stream",
     "text": [
      "Using TensorFlow backend.\n"
     ]
    }
   ],
   "source": [
    "import os\n",
    "import numpy as np\n",
    "import matplotlib.pyplot as plt\n",
    "import matplotlib.image as npimg\n",
    "import keras\n",
    "from keras.models import Sequential \n",
    "from keras.optimizers import Adam\n",
    "from keras.layers import Convolution2D, MaxPooling2D, Dropout, Flatten, Dense\n",
    "from sklearn.utils import shuffle\n",
    "from sklearn.model_selection import train_test_split\n",
    "from imgaug import augmenters as iaa\n",
    "import cv2\n",
    "import pandas as pd\n",
    "import ntpath\n",
    "import random"
   ]
  },
  {
   "cell_type": "code",
   "execution_count": null,
   "metadata": {
    "colab": {
     "base_uri": "https://localhost:8080/",
     "height": 215
    },
    "colab_type": "code",
    "id": "vLSDlYUG4GML",
    "outputId": "72c0f699-121a-40c3-f958-3c22aa5f5690"
   },
   "outputs": [],
   "source": [
    "datadir = 'track'\n",
    "columns = ['center', 'left', 'right', 'steering', 'throttle', 'reverse', 'speed']\n",
    "data = pd.read_csv(os.path.join(datadir, 'driving_log.csv'), names = columns)\n",
    "pd.set_option('display.max_colwidth', -1)\n",
    "data.head()"
   ]
  },
  {
   "cell_type": "code",
   "execution_count": null,
   "metadata": {
    "colab": {
     "base_uri": "https://localhost:8080/",
     "height": 195
    },
    "colab_type": "code",
    "id": "JS-IYtFZ5RFk",
    "outputId": "dd1760b9-15b0-44e7-87a0-7fab8ee32be9"
   },
   "outputs": [],
   "source": [
    "def path_leaf(path):\n",
    "  head, tail = ntpath.split(path)\n",
    "  return tail\n",
    "data['center'] = data['center'].apply(path_leaf)\n",
    "data['left'] = data['left'].apply(path_leaf)\n",
    "data['right'] = data['right'].apply(path_leaf)\n",
    "data.head()"
   ]
  },
  {
   "cell_type": "code",
   "execution_count": null,
   "metadata": {
    "colab": {
     "base_uri": "https://localhost:8080/",
     "height": 538
    },
    "colab_type": "code",
    "id": "DhIh0QOV7wRm",
    "outputId": "d54bf04c-0450-404a-cc4d-7f867df3232b"
   },
   "outputs": [],
   "source": [
    "num_bins = 25\n",
    "samples_per_bin = 400\n",
    "hist, bins = np.histogram(data['steering'], num_bins)\n",
    "print(bins[:-1])\n",
    "print(bins[1:])\n",
    "print(bins[:-1] + bins[1:])\n",
    "center = (bins[:-1] + bins[1:]) * 0.5\n",
    "print(center)\n",
    "print(bins)\n",
    "plt.bar(center, hist, width=0.05)\n",
    "plt.plot((np.min(data['steering']), np.max(data['steering'])), (samples_per_bin, samples_per_bin))"
   ]
  },
  {
   "cell_type": "code",
   "execution_count": null,
   "metadata": {
    "colab": {
     "base_uri": "https://localhost:8080/",
     "height": 336
    },
    "colab_type": "code",
    "id": "gvQ5BC0u86O2",
    "outputId": "b1eb5c8e-fc3c-4457-b439-10db628c75c2"
   },
   "outputs": [],
   "source": [
    "print('total_data:', len(data))\n",
    "remove_leist = []\n",
    "for j in range(num_bins):\n",
    "  leist_ = []\n",
    "  for i in range(len(data['steering'])):\n",
    "    if data['steering'][i] >= bins[j] and data['steering'][i] <= bins[j+1]:\n",
    "      leist_.append(i)\n",
    "  leist_ = shuffle(leist_)\n",
    "  leist_ = leist_[samples_per_bin:]\n",
    "  remove_leist.extend(leist_)\n",
    "\n",
    "print('removed', len(remove_leist))\n",
    "data.drop(data.index[remove_leist], inplace=True)\n",
    "print('remaining:', len(data))\n",
    "\n",
    "hist,_ = np.histogram(data['steering'], (num_bins))\n",
    "plt.bar(center, hist, width=0.05)\n",
    "plt.plot((np.min(data['steering']), np.max(data['steering'])), (samples_per_bin, samples_per_bin))"
   ]
  },
  {
   "cell_type": "code",
   "execution_count": null,
   "metadata": {
    "colab": {
     "base_uri": "https://localhost:8080/",
     "height": 151
    },
    "colab_type": "code",
    "id": "XUYi-I6jBSIc",
    "outputId": "839c02c3-e7b9-41c9-864e-9874a785afa6"
   },
   "outputs": [],
   "source": [
    "print(data.iloc[1])\n",
    "def load_img_steering(datadir, df):\n",
    "  image_path = []\n",
    "  steering = []\n",
    "  for i in range(len(data)):\n",
    "    indexed_data = data.iloc[i]\n",
    "    center, left, right = indexed_data[0], indexed_data[1], indexed_data[2]\n",
    "    image_path.append(os.path.join(datadir, center.strip()))\n",
    "    steering.append(float(indexed_data[3]))\n",
    "  image_paths = np.asarray(image_path)\n",
    "  steerings = np.asarray(steering)\n",
    "  return image_paths, steerings\n",
    "\n",
    "image_paths, steerings = load_img_steering(datadir + '/IMG', data)"
   ]
  },
  {
   "cell_type": "code",
   "execution_count": null,
   "metadata": {
    "colab": {
     "base_uri": "https://localhost:8080/",
     "height": 50
    },
    "colab_type": "code",
    "id": "y-6SfclUxYnu",
    "outputId": "f903bbec-3d8a-491a-f3a5-642e4840b65d"
   },
   "outputs": [],
   "source": [
    "X_train, X_valid, y_train, y_valid = train_test_split(image_paths, steerings, test_size=0.2, random_state=6)\n",
    "print('Training Samples: {}\\nValid Samples: {}'.format(len(X_train), len(X_valid)))"
   ]
  },
  {
   "cell_type": "code",
   "execution_count": null,
   "metadata": {
    "colab": {
     "base_uri": "https://localhost:8080/",
     "height": 298
    },
    "colab_type": "code",
    "id": "JU_U8PCZzS3V",
    "outputId": "54c4fa7e-319d-4aec-88df-a8e6aa4d9a40"
   },
   "outputs": [],
   "source": [
    "fig, axes = plt.subplots(1, 2, figsize=(12,4))\n",
    "axes[0].hist(y_train, bins=num_bins, width=0.05, color='blue')\n",
    "axes[0].set_title('Training set')\n",
    "axes[1].hist(y_valid, bins=num_bins, width=0.05, color='red')\n",
    "axes[1].set_title('Validation set')"
   ]
  },
  {
   "cell_type": "code",
   "execution_count": null,
   "metadata": {
    "colab": {},
    "colab_type": "code",
    "id": "P4_WGbL_-xFO"
   },
   "outputs": [],
   "source": [
    "def zoom(image):\n",
    "  zoom = iaa.Affine(scale=(1, 1.3))\n",
    "  image = zoom.augment_image(image)\n",
    "  return image"
   ]
  },
  {
   "cell_type": "code",
   "execution_count": null,
   "metadata": {
    "colab": {
     "base_uri": "https://localhost:8080/",
     "height": 326
    },
    "colab_type": "code",
    "id": "qCRSSPoNFNj3",
    "outputId": "8280f61a-bd2b-4498-ccc9-66106eb23a93"
   },
   "outputs": [],
   "source": [
    "image = image_paths[random.randint(0, 100)]\n",
    "original_image = npimg.imread(image)\n",
    "zoomed_image = zoom(original_image)\n",
    "\n",
    "fig, axs = plt.subplots(1, 2, figsize=(15, 10))\n",
    "fig.tight_layout()\n",
    "\n",
    "axs[0].imshow(original_image)\n",
    "axs[0].set_title('Original image')\n",
    "\n",
    "axs[1].imshow(zoomed_image)\n",
    "axs[1].set_title('Zoomed image')"
   ]
  },
  {
   "cell_type": "code",
   "execution_count": null,
   "metadata": {
    "colab": {},
    "colab_type": "code",
    "id": "9GCjs4mnCnp3"
   },
   "outputs": [],
   "source": [
    "def pan(image):\n",
    "  pan = iaa.Affine(translate_percent= {'x':(-0.1, 0.1), 'y':(-0.1, 0.1)})\n",
    "  image = pan.augment_image(image)\n",
    "  return image"
   ]
  },
  {
   "cell_type": "code",
   "execution_count": null,
   "metadata": {
    "colab": {
     "base_uri": "https://localhost:8080/",
     "height": 326
    },
    "colab_type": "code",
    "id": "tBCGlDVQAF1z",
    "outputId": "ef017c74-889c-4d67-bc10-dc5cd675f25a"
   },
   "outputs": [],
   "source": [
    "image = image_paths[random.randint(0, 100)]\n",
    "original_image = npimg.imread(image)\n",
    "panned_image = pan(original_image)\n",
    "\n",
    "fig, axs = plt.subplots(1, 2, figsize=(15, 10))\n",
    "fig.tight_layout()\n",
    "\n",
    "axs[0].imshow(original_image)\n",
    "axs[0].set_title('Original image')\n",
    "\n",
    "axs[1].imshow(panned_image)\n",
    "axs[1].set_title('Panned image')"
   ]
  },
  {
   "cell_type": "code",
   "execution_count": null,
   "metadata": {
    "colab": {},
    "colab_type": "code",
    "id": "C-ZhSdYbHufz"
   },
   "outputs": [],
   "source": [
    "def img_random_brightness(image):\n",
    "  brightness = iaa.Multiply((0.2, 1.2))\n",
    "  image = brightness.augment_image(image)\n",
    "  return image"
   ]
  },
  {
   "cell_type": "code",
   "execution_count": null,
   "metadata": {
    "colab": {
     "base_uri": "https://localhost:8080/",
     "height": 326
    },
    "colab_type": "code",
    "id": "Wb3A27sIIPNB",
    "outputId": "981d886f-d0e8-44c4-dcd6-f04926fccfb5"
   },
   "outputs": [],
   "source": [
    "image = image_paths[random.randint(0, 100)]\n",
    "original_image = npimg.imread(image)\n",
    "brightness_altered_image = img_random_brightness(original_image)\n",
    "\n",
    "fig, axs = plt.subplots(1, 2, figsize=(15, 10))\n",
    "fig.tight_layout()\n",
    "\n",
    "axs[0].imshow(original_image)\n",
    "axs[0].set_title('Original image')\n",
    "\n",
    "axs[1].imshow(brightness_altered_image)\n",
    "axs[1].set_title('brightness_altered_image')"
   ]
  },
  {
   "cell_type": "code",
   "execution_count": null,
   "metadata": {
    "colab": {},
    "colab_type": "code",
    "id": "aMMK-3ItJKyj"
   },
   "outputs": [],
   "source": [
    "def img_random_flip(image, steering_angle):\n",
    "  image = cv2.flip(image, 1)\n",
    "  steering_angle = -steering_angle\n",
    "  return image, steering_angle"
   ]
  },
  {
   "cell_type": "code",
   "execution_count": null,
   "metadata": {
    "colab": {
     "base_uri": "https://localhost:8080/",
     "height": 326
    },
    "colab_type": "code",
    "id": "29JNTOzAMtT0",
    "outputId": "750ca3d0-ded4-4046-f09f-2b5bb053f06c"
   },
   "outputs": [],
   "source": [
    "random_index = random.randint(0, 1000)\n",
    "image = image_paths[random_index]\n",
    "steering_angle = steerings[random_index]\n",
    "\n",
    "original_image = npimg.imread(image)\n",
    "flipped_image, flipped_steering_angle = img_random_flip(original_image, steering_angle)\n",
    "\n",
    "fig, axs = plt.subplots(1, 2, figsize=(15, 10))\n",
    "fig.tight_layout()\n",
    "\n",
    "axs[0].imshow(original_image)\n",
    "axs[0].set_title('Original image, ' + \"steering angle: \" + str(steering_angle))\n",
    "\n",
    "axs[1].imshow(flipped_image)\n",
    "axs[1].set_title('Flipped image, ' + \"flipped steering angle: \" + str(flipped_steering_angle))"
   ]
  },
  {
   "cell_type": "code",
   "execution_count": null,
   "metadata": {
    "colab": {},
    "colab_type": "code",
    "id": "MXqvPZ3kVMWu"
   },
   "outputs": [],
   "source": [
    "def random_augment(image, steering_angle):\n",
    "  image = npimg.imread(image)\n",
    "  if np.random.rand() < 0.5:\n",
    "    image = zoom(image)\n",
    "  if np.random.rand() < 0.5:\n",
    "    image = pan(image)\n",
    "  if np.random.rand() < 0.5:\n",
    "    image = img_random_brightness(image)\n",
    "  if np.random.rand() < 0.5:\n",
    "    image, steering_angle = img_random_flip(image, steering_angle)\n",
    "    \n",
    "  return image,steering_angle"
   ]
  },
  {
   "cell_type": "code",
   "execution_count": null,
   "metadata": {
    "colab": {
     "base_uri": "https://localhost:8080/",
     "height": 1000
    },
    "colab_type": "code",
    "id": "utvI4B16XXIa",
    "outputId": "f4696910-b59d-481f-d1b5-28ddf4fd83c1"
   },
   "outputs": [],
   "source": [
    "ncol = 2\n",
    "nrow = 10\n",
    "fig, axs = plt.subplots(nrow, ncol, figsize=(15, 50))\n",
    "fig.tight_layout()\n",
    "\n",
    "for i in range(10):\n",
    "  randnum = random.randint(0, len(image_paths) - 1)\n",
    "  random_image = image_paths[randnum]\n",
    "  random_steering = steerings[randnum]\n",
    "  \n",
    "  original_image = npimg.imread(random_image)\n",
    "  augmented_image, steering = random_augment(random_image, random_steering)\n",
    "  \n",
    "  axs[i][0].imshow(original_image)\n",
    "  axs[i][0].set_title('Original image')\n",
    "  \n",
    "  axs[i][1].imshow(augmented_image)\n",
    "  axs[i][1].set_title('Augmented image')\n"
   ]
  },
  {
   "cell_type": "code",
   "execution_count": null,
   "metadata": {
    "colab": {},
    "colab_type": "code",
    "id": "wRxpUeOyDhMu"
   },
   "outputs": [],
   "source": [
    "def img_preprocess(img):\n",
    "  img = img[60:135, :, :]\n",
    "  img = cv2.cvtColor(img, cv2.COLOR_RGB2YUV)\n",
    "  img = cv2.GaussianBlur(img, (3, 3), 0)  #kernel size and deviation\n",
    "  img = cv2.resize(img, (200, 66))\n",
    "  img = img/255\n",
    "  return img"
   ]
  },
  {
   "cell_type": "code",
   "execution_count": null,
   "metadata": {
    "colab": {
     "base_uri": "https://localhost:8080/",
     "height": 326
    },
    "colab_type": "code",
    "id": "KtAII06xD5Dn",
    "outputId": "d6e57012-6471-48da-9fce-87377d9ec77f"
   },
   "outputs": [],
   "source": [
    "image = image_paths[100]\n",
    "original_image = npimg.imread(image)\n",
    "preprocessed_image = img_preprocess(original_image)\n",
    "fig, axs = plt.subplots(1, 2, figsize=(15, 10))\n",
    "fig.tight_layout()\n",
    "axs[0].imshow(original_image)\n",
    "axs[0].set_title(\"Original image\")\n",
    "axs[1].imshow(preprocessed_image)\n",
    "axs[1].set_title(\"Preprocessed image\")"
   ]
  },
  {
   "cell_type": "code",
   "execution_count": null,
   "metadata": {
    "colab": {},
    "colab_type": "code",
    "id": "9ltip0NBiGIf"
   },
   "outputs": [],
   "source": [
    "def batch_generator(image_paths, steering_ang, batch_size, istraining):\n",
    "  \n",
    "  while True:\n",
    "    batch_img = []\n",
    "    batch_steering = []\n",
    "    \n",
    "    for i in range(batch_size):\n",
    "      random_index = random.randint(0, len(image_paths) - 1)\n",
    "      \n",
    "      if istraining:\n",
    "        im, steering = random_augment(image_paths[random_index], steering_ang[random_index])\n",
    "        \n",
    "      else:\n",
    "        im = npimg.imread(image_paths[random_index])\n",
    "        steering = steering_ang[random_index]\n",
    "      \n",
    "      im = img_preprocess(im)\n",
    "      batch_img.append(im)\n",
    "      batch_steering.append(steering)\n",
    "    yield (np.asarray(batch_img), np.asarray(batch_steering))\n",
    "  "
   ]
  },
  {
   "cell_type": "code",
   "execution_count": null,
   "metadata": {
    "colab": {
     "base_uri": "https://localhost:8080/",
     "height": 261
    },
    "colab_type": "code",
    "id": "wnOJPCFIrJkI",
    "outputId": "9363f012-0181-4af8-cc14-9601159079c5"
   },
   "outputs": [],
   "source": [
    "x_train_gen, y_train_gen = next(batch_generator(X_train, y_train, 1, 1))\n",
    "x_valid_gen, y_valid_gen = next(batch_generator(X_valid, y_valid, 1, 0))\n",
    "\n",
    "fig, axs = plt.subplots(1, 2, figsize=(15, 10))\n",
    "fig.tight_layout()\n",
    "\n",
    "axs[0].imshow(x_train_gen[0])\n",
    "axs[0].set_title('Training image')\n",
    "\n",
    "axs[1].imshow(x_valid_gen[0])\n",
    "axs[1].set_title('Validation image')\n",
    "\n",
    "print(x_train_gen[0].shape)\n",
    "print(x_valid_gen[0].shape)"
   ]
  },
  {
   "cell_type": "code",
   "execution_count": null,
   "metadata": {
    "colab": {},
    "colab_type": "code",
    "id": "D0U_16lCLvSZ"
   },
   "outputs": [],
   "source": [
    "#X_train = np.array(list(map(img_preprocess, X_train)))\n",
    "#X_valid = np.array(list(map(img_preprocess, X_valid)))"
   ]
  },
  {
   "cell_type": "code",
   "execution_count": null,
   "metadata": {
    "colab": {},
    "colab_type": "code",
    "id": "dWRqVQC2PuvI"
   },
   "outputs": [],
   "source": [
    "#plt.imshow(X_train[random.randint(0, len(X_train) - 1)])\n",
    "#plt.axis('off')\n",
    "#print(X_train.shape)"
   ]
  },
  {
   "cell_type": "code",
   "execution_count": null,
   "metadata": {
    "colab": {},
    "colab_type": "code",
    "id": "l7T-09X0XAl0"
   },
   "outputs": [],
   "source": [
    "def nvidia_model():\n",
    "  model = Sequential()\n",
    "  model.add(Convolution2D(24, 5, 5, subsample=(2, 2), input_shape=(66, 200, 3), activation='elu'))\n",
    "  model.add(Convolution2D(36, 5, 5, subsample=(2, 2), activation='elu'))\n",
    "  model.add(Convolution2D(48, 5, 5, subsample=(2, 2), activation='elu'))\n",
    "  model.add(Convolution2D(64, 3, 3, activation='elu'))\n",
    "  model.add(Convolution2D(64, 3, 3, activation='elu'))\n",
    "  #model.add(Dropout(0.5))\n",
    "  \n",
    "  model.add(Flatten())\n",
    "  model.add(Dense(100, activation='elu'))\n",
    "  #model.add(Dropout(0.5))\n",
    "  \n",
    "  model.add(Dense(50, activation='elu'))\n",
    "  #model.add(Dropout(0.5))\n",
    "  \n",
    "  model.add(Dense(10, activation='elu'))\n",
    "  #model.add(Dropout(0.5))\n",
    "  \n",
    "  model.add(Dense(1))\n",
    "  \n",
    "  optimizer = Adam (lr=1e-4)\n",
    "  model.compile(loss='mse', optimizer=optimizer)\n",
    "  return model\n",
    "  "
   ]
  },
  {
   "cell_type": "code",
   "execution_count": null,
   "metadata": {
    "colab": {
     "base_uri": "https://localhost:8080/",
     "height": 675
    },
    "colab_type": "code",
    "id": "PgtpjXi5XNQ-",
    "outputId": "26abc748-7d52-4cbd-d7c1-ee04292227ea"
   },
   "outputs": [],
   "source": [
    "model = nvidia_model()\n",
    "print(model.summary())"
   ]
  },
  {
   "cell_type": "code",
   "execution_count": null,
   "metadata": {
    "colab": {
     "base_uri": "https://localhost:8080/",
     "height": 353
    },
    "colab_type": "code",
    "id": "fncpdscYeQlZ",
    "outputId": "099d1518-bad6-46d7-aefd-9db4ff25a7d9"
   },
   "outputs": [],
   "source": [
    "history = model.fit_generator(batch_generator(X_train, y_train, 100, 1), steps_per_epoch=300,  epochs=10, validation_data=batch_generator(X_valid, y_valid, 100, 0), validation_steps=200, verbose=1, shuffle=1)"
   ]
  },
  {
   "cell_type": "code",
   "execution_count": null,
   "metadata": {
    "colab": {
     "base_uri": "https://localhost:8080/",
     "height": 312
    },
    "colab_type": "code",
    "id": "XpW-JGDjgOuO",
    "outputId": "8a59853c-e55a-4189-80a2-ce05926f4083"
   },
   "outputs": [],
   "source": [
    "plt.plot(history.history['loss'])\n",
    "plt.plot(history.history['val_loss'])\n",
    "plt.legend(['Training', 'Validation'])\n",
    "plt.title('Loss')\n",
    "plt.xlabel('Epochs')"
   ]
  },
  {
   "cell_type": "code",
   "execution_count": null,
   "metadata": {
    "colab": {},
    "colab_type": "code",
    "id": "-ZKop_e6pFxq"
   },
   "outputs": [],
   "source": [
    "model.save('model.h5')"
   ]
  },
  {
   "cell_type": "code",
   "execution_count": null,
   "metadata": {
    "colab": {},
    "colab_type": "code",
    "id": "cBsGDhoxpKzx"
   },
   "outputs": [],
   "source": [
    "from google.colab import files\n",
    "files.download('model.h5')"
   ]
  }
 ],
 "metadata": {
  "accelerator": "GPU",
  "colab": {
   "collapsed_sections": [],
   "name": "Behavioural Cloning.ipynb",
   "provenance": [],
   "version": "0.3.2"
  },
  "kernelspec": {
   "display_name": "Python 3",
   "language": "python",
   "name": "python3"
  },
  "language_info": {
   "codemirror_mode": {
    "name": "ipython",
    "version": 3
   },
   "file_extension": ".py",
   "mimetype": "text/x-python",
   "name": "python",
   "nbconvert_exporter": "python",
   "pygments_lexer": "ipython3",
   "version": "3.7.3"
  }
 },
 "nbformat": 4,
 "nbformat_minor": 1
}
